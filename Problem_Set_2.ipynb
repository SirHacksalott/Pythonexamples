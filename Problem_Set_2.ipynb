{
  "nbformat": 4,
  "nbformat_minor": 0,
  "metadata": {
    "colab": {
      "name": "Problem_Set_2.ipynb",
      "provenance": [],
      "toc_visible": true,
      "include_colab_link": true
    },
    "kernelspec": {
      "name": "python3",
      "display_name": "Python 3"
    }
  },
  "cells": [
    {
      "cell_type": "markdown",
      "metadata": {
        "id": "view-in-github",
        "colab_type": "text"
      },
      "source": [
        "<a href=\"https://colab.research.google.com/github/SirHacksalott/Pythonexamples/blob/main/Problem_Set_2.ipynb\" target=\"_parent\"><img src=\"https://colab.research.google.com/assets/colab-badge.svg\" alt=\"Open In Colab\"/></a>"
      ]
    },
    {
      "cell_type": "markdown",
      "metadata": {
        "id": "p0YTS8_54Z6p"
      },
      "source": [
        "Please solve these problems by 2nd Feb. \n",
        "\n",
        "Note that, in the hints section for each problems, there are hyperlinks pointing to the appropriate subsections that can be used to solve the problem. Please click on it to read the relevant materials."
      ]
    },
    {
      "cell_type": "markdown",
      "metadata": {
        "id": "bpnJ3I6-h5z9"
      },
      "source": [
        "# Problem"
      ]
    },
    {
      "cell_type": "markdown",
      "metadata": {
        "id": "oY6KYceMhKPc"
      },
      "source": [
        "Write a program to print *'s in the pattern described below, like a right angled triangle, based on the input from the user.\n",
        "\n",
        "**Sample input 1**\n",
        "```\n",
        "Enter n: 5\n",
        "*\n",
        "**\n",
        "***\n",
        "****\n",
        "*****\n",
        "```\n",
        "\n",
        "**Sample input 2**\n",
        "```\n",
        "Enter n: 3\n",
        "*\n",
        "**\n",
        "***\n",
        "```\n",
        "\n",
        "**Hint**\n",
        "- Use `input` function to get inputs from the user [Session 1](https://colab.research.google.com/drive/1yFrqaLS2fO0O1_Kt4ZbuC__-OG-kqKF9#scrollTo=skwhDwki6OX8)\n",
        "- Use loops [Session 1](https://colab.research.google.com/drive/1yFrqaLS2fO0O1_Kt4ZbuC__-OG-kqKF9#scrollTo=BwF9Tl7GIXiN)\n",
        "- Use arithmatic operators with strings [Session 2](https://colab.research.google.com/drive/1EquXEdAy30TEGv8XFMPNgVBQF8p1zWfQ#scrollTo=dzml-u_FIf80)"
      ]
    },
    {
      "cell_type": "markdown",
      "metadata": {
        "id": "kFhesRCAh9jT"
      },
      "source": [
        "## Solution"
      ]
    },
    {
      "cell_type": "code",
      "metadata": {
        "id": "nwcbXUirhGzn"
      },
      "source": [
        "n  = int(input(\"Enter n: \"))\r\n",
        "for i in range(1,n+1):\r\n",
        "  for j in range(1,n+1):\r\n",
        "    if(i==j):\r\n",
        "      print(\"*\"*i)"
      ],
      "execution_count": null,
      "outputs": []
    },
    {
      "cell_type": "markdown",
      "metadata": {
        "id": "5aOUhQzEiAno"
      },
      "source": [
        "# Problem"
      ]
    },
    {
      "cell_type": "markdown",
      "metadata": {
        "id": "cZzV8VRKiDNU"
      },
      "source": [
        "We are creating an employee database using lists. We will ask the customer about how many employees are present in the organisation. Based on the data supplied, we ask the customer to enter employee details (Name and year of birth). Once all the data has been entered, we display all the employee details along with their age in 2021. Make sure that the formatting of the displayed text is similar to what is shown below.\n",
        "\n",
        "**Sample Input**\n",
        "```\n",
        "Enter number of employees: 2\n",
        "Enter details for employee 1:\n",
        "  Name: Sumit\n",
        "  YOB: 1987\n",
        "Enter details for employee 2:\n",
        "  Name: Joe\n",
        "  YOB: 1989\n",
        "\n",
        "Displaying employee info:\n",
        "  Sumit will be 34 this year\n",
        "  Joe will be 32 this year\n",
        "```\n",
        " \n",
        "Note: The inputs are to be supplied for number of employees, Name and YOB by the user. Depending on the passed input the age needs to be calcualted and displayed.\n",
        "\n",
        "**Hint**\n",
        "- Use input statement to get number of employees [Session 1](https://colab.research.google.com/drive/1yFrqaLS2fO0O1_Kt4ZbuC__-OG-kqKF9#scrollTo=skwhDwki6OX8)\n",
        "- Use loops [(Session 1)](https://colab.research.google.com/drive/1yFrqaLS2fO0O1_Kt4ZbuC__-OG-kqKF9#scrollTo=BwF9Tl7GIXiN) in combination with `input` [(Session 1)](https://colab.research.google.com/drive/1yFrqaLS2fO0O1_Kt4ZbuC__-OG-kqKF9#scrollTo=skwhDwki6OX8) to get data for number of users entered \n",
        "- Format the displayed strings using escape sequences [Session 2](https://colab.research.google.com/drive/1EquXEdAy30TEGv8XFMPNgVBQF8p1zWfQ#scrollTo=3yFqR4JSA-f7)\n",
        "- Use 2 lists to store data: one for name and other for year of birth. See the `append` function [Session 2](https://colab.research.google.com/drive/1EquXEdAy30TEGv8XFMPNgVBQF8p1zWfQ#scrollTo=lIjTi9rgMNAB)\n",
        "- display the results using combination of loops [(Session 1)](https://colab.research.google.com/drive/1yFrqaLS2fO0O1_Kt4ZbuC__-OG-kqKF9#scrollTo=BwF9Tl7GIXiN) and `print`statement [(Session 1)](https://colab.research.google.com/drive/1yFrqaLS2fO0O1_Kt4ZbuC__-OG-kqKF9#scrollTo=skwhDwki6OX8)\n",
        "- Think of using the `format` function of the string class to display the name and age[Session 2](https://colab.research.google.com/drive/1EquXEdAy30TEGv8XFMPNgVBQF8p1zWfQ#scrollTo=GDP3gjjzIf_w)\n",
        "\n",
        "\n"
      ]
    },
    {
      "cell_type": "markdown",
      "metadata": {
        "id": "st5BjMGSnCKg"
      },
      "source": [
        "## Solution"
      ]
    },
    {
      "cell_type": "code",
      "metadata": {
        "id": "RvVfwOQlnDzG"
      },
      "source": [
        "n = int(input(\"Enter the number of employees: \"))\r\n",
        "empname = []\r\n",
        "empyob = []\r\n",
        "for i in range(0,n):\r\n",
        "  print(\"Enter the details for employee {0}\".format(i+1))\r\n",
        "  name = input(\" Name: \")\r\n",
        "  db = int(input(\" YOB:\"))\r\n",
        "  empname.append(name)\r\n",
        "  empyob.append(db)\r\n",
        "print(\"Displaying employee info: \")\r\n",
        "for i in range(0,n):\r\n",
        "  print(\" {0} will be {1}\".format(empname[i],2021-empyob[i]))"
      ],
      "execution_count": null,
      "outputs": []
    },
    {
      "cell_type": "markdown",
      "metadata": {
        "id": "-rFKxpwXxmPB"
      },
      "source": [
        "# Problem"
      ]
    },
    {
      "cell_type": "markdown",
      "metadata": {
        "id": "121SH9PIrU-v"
      },
      "source": [
        "Write a program to find number of unique characters and perform character counts in the input string. The computations must be case in-sensitive.\n",
        "\n",
        "\n",
        "**Sample Input 1**\n",
        "```\n",
        "Enter text: My name is sumit.\n",
        "Number of unique characters: 11\n",
        "m: 3\n",
        "y: 1\n",
        " : 3\n",
        "n: 1\n",
        "a: 1\n",
        "e: 1\n",
        "i: 2\n",
        "s: 2\n",
        "u: 1\n",
        "t: 1\n",
        ".: 1\n",
        "```\n",
        "\n",
        "**Hint**\n",
        "- Use `input` function to get inputs from the user [Session 1](https://colab.research.google.com/drive/1yFrqaLS2fO0O1_Kt4ZbuC__-OG-kqKF9#scrollTo=skwhDwki6OX8)\n",
        "- Use string methods to change the case to either upper or lower to perform the case insensitive counts. [Session 2](https://colab.research.google.com/drive/1EquXEdAy30TEGv8XFMPNgVBQF8p1zWfQ#scrollTo=GDP3gjjzIf_w)\n",
        "- create an empty dictionary to store unique character and their counts (as key value pairs) [Session 2](https://colab.research.google.com/drive/1EquXEdAy30TEGv8XFMPNgVBQF8p1zWfQ#scrollTo=GDP3gjjzIf_w)\n",
        "- Use `for` loop to iterate over each character in the string [Session 1](https://colab.research.google.com/drive/1yFrqaLS2fO0O1_Kt4ZbuC__-OG-kqKF9#scrollTo=MRY7ToJcdTMW) \n",
        "- If the character is not present as a key then add the character and set its count to 1 [Session 2](https://colab.research.google.com/drive/1EquXEdAy30TEGv8XFMPNgVBQF8p1zWfQ#scrollTo=rDhKza7NvKbU&line=1&uniqifier=1)\n",
        "- If the character is already present in the dictionary, get the current count, increment it and store it back.\n",
        "- Display the number of unique characters.\n",
        "- Display count of each characters.\n"
      ]
    },
    {
      "cell_type": "markdown",
      "metadata": {
        "id": "VVJh6Em4rS2L"
      },
      "source": [
        "## Solution"
      ]
    },
    {
      "cell_type": "code",
      "metadata": {
        "id": "fx2s1pw7xg4m"
      },
      "source": [
        "name = input(\"Enter text: \")\r\n",
        "name = name.lower()\r\n",
        "char_count = {}\r\n",
        "for i in name:\r\n",
        "  if (i not in char_count):\r\n",
        "    char_count[i] = 1\r\n",
        "  else:\r\n",
        "    char_count[i]+=1\r\n",
        "\r\n",
        "print(\"Number of unique characters:\",len(char_count))\r\n",
        "for i in char_count:\r\n",
        "  print(i,\":\",char_count[i])"
      ],
      "execution_count": null,
      "outputs": []
    },
    {
      "cell_type": "markdown",
      "metadata": {
        "id": "6iT_FClMyY0p"
      },
      "source": [
        "# Problem\n"
      ]
    },
    {
      "cell_type": "markdown",
      "metadata": {
        "id": "V0gHEjAOyapN"
      },
      "source": [
        "Write a program to take 3 mandatory inputs, 3 optional inputs (with default values of -1) and display the parameter values if the passed input is positive.\n",
        "\n",
        "**Sample Function Call 1**\n",
        "```\n",
        ">>> my_func(4, 2, 10, param5=20)\n",
        "param1: 4\n",
        "param2: 2\n",
        "param3: 10\n",
        "param5: 20\n",
        "```\n",
        "\n",
        "**Sample Function Call 2**\n",
        "```\n",
        ">>> my_func(4, -2, 10, param5=-20)\n",
        "param1: 4\n",
        "param3: 10\n",
        "```\n",
        "\n",
        "**Hint**\n",
        "- Use positional, default and keyword arguments [Session 2](https://colab.research.google.com/drive/1EquXEdAy30TEGv8XFMPNgVBQF8p1zWfQ#scrollTo=3Y2llj0pbKkp)\n",
        "- Use if statements [Session 1](https://colab.research.google.com/drive/1yFrqaLS2fO0O1_Kt4ZbuC__-OG-kqKF9#scrollTo=RS_zHSxx20yG)\n"
      ]
    },
    {
      "cell_type": "markdown",
      "metadata": {
        "id": "QtRGwe-nxhjx"
      },
      "source": [
        "## Solution"
      ]
    },
    {
      "cell_type": "code",
      "metadata": {
        "id": "ahad2cnHz-wi"
      },
      "source": [
        "def my_func(param1,param2,param3,param4=-1,param5=-1,param6=-1):\r\n",
        "  d = [param1,param2,param3,param4,param5,param6]\r\n",
        "  for i in range(0,len(d)):\r\n",
        "    if(d[i]>0):\r\n",
        "      print(\"param{0}: {1}\".format(i+1,d[i]))\r\n",
        "\r\n",
        "my_func(4,2,10,param5=20)"
      ],
      "execution_count": null,
      "outputs": []
    },
    {
      "cell_type": "markdown",
      "metadata": {
        "id": "lM_SFF2gnEUb"
      },
      "source": [
        "# Problem\n"
      ]
    },
    {
      "cell_type": "markdown",
      "metadata": {
        "id": "jridqPIPof2Z"
      },
      "source": [
        "Write a recursive function to find a power of a number. \n",
        "\n",
        "**Sample input 1**\n",
        "```\n",
        "Enter base: 5\n",
        "Enter exponent: 3\n",
        "5 power 3: 125\n",
        "```\n",
        "\n",
        "**Sample input 2**\n",
        "```\n",
        "Enter base: 2\n",
        "Enter exponent: 6\n",
        "2 power 6: 64\n",
        "```\n",
        "\n",
        "**Hint**\n",
        "- Formulate the problem using rules of recursion. \n",
        "- Think of a termination state and write a recursive formula accordingly\n",
        "- Create a function `compute_power(base, exponent)` which is recursively called.\n",
        "- Make sure that one of the input moves towards the terminal state each time the function is called.\n",
        "- When the terminal state is reached, return a terminal value; else recursively call the function"
      ]
    },
    {
      "cell_type": "markdown",
      "metadata": {
        "id": "rWqlt6130UVD"
      },
      "source": [
        "## Solution"
      ]
    },
    {
      "cell_type": "code",
      "metadata": {
        "id": "p8ZdTCx40T0p"
      },
      "source": [
        "def compute_power(base,exponent):\r\n",
        "  r= base\r\n",
        "  for i in range(1,exponent):\r\n",
        "    r*=base\r\n",
        "  return r\r\n",
        "\r\n",
        "b = int(input(\"Enter base: \"))\r\n",
        "e = int(input(\"Enter exponent: \"))\r\n",
        "result = compute_power(b,e)\r\n",
        "print(\"{0} power {1}: {2}\".format(b,e,result))"
      ],
      "execution_count": null,
      "outputs": []
    },
    {
      "cell_type": "markdown",
      "metadata": {
        "id": "2A_axUVtvKeN"
      },
      "source": [
        "# Problem\n"
      ]
    },
    {
      "cell_type": "markdown",
      "metadata": {
        "id": "ZYXOfUGlv0Or"
      },
      "source": [
        "Create a list with values: 'apple', 'banana', 'apple', 'banana', 'orange', 'apple'\n",
        "\n",
        "Try to find all the occurances of an element (apple).\n",
        "\n",
        "**Sample Output**\n",
        "```\n",
        "3\n",
        "```\n",
        "\n",
        "**Hint**\n",
        "- Use loops\n",
        "- Use the `index()` function"
      ]
    },
    {
      "cell_type": "markdown",
      "metadata": {
        "id": "ItrOTOR3vu6B"
      },
      "source": [
        "## Solution"
      ]
    },
    {
      "cell_type": "code",
      "metadata": {
        "id": "bNX7RbiPviUg",
        "colab": {
          "base_uri": "https://localhost:8080/"
        },
        "outputId": "95cbd7ee-1443-49fc-ab8b-daa3328c1d1b"
      },
      "source": [
        "fruits=['apple', 'banana', 'apple', 'banana', 'orange', 'apple']\r\n",
        "count = 0\r\n",
        "for i in fruits:\r\n",
        "  if(fruits.index(i)==0):\r\n",
        "    count+=1\r\n",
        "print(count)"
      ],
      "execution_count": 5,
      "outputs": [
        {
          "output_type": "stream",
          "text": [
            "3\n"
          ],
          "name": "stdout"
        }
      ]
    }
  ]
}