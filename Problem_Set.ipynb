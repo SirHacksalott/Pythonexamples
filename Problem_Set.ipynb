{
  "nbformat": 4,
  "nbformat_minor": 0,
  "metadata": {
    "colab": {
      "name": "Problem_Set.ipynb",
      "provenance": [],
      "collapsed_sections": [],
      "toc_visible": true,
      "include_colab_link": true
    },
    "kernelspec": {
      "name": "python3",
      "display_name": "Python 3"
    }
  },
  "cells": [
    {
      "cell_type": "markdown",
      "metadata": {
        "id": "view-in-github",
        "colab_type": "text"
      },
      "source": [
        "<a href=\"https://colab.research.google.com/github/SirHacksalott/Pythonexamples/blob/main/Problem_Set.ipynb\" target=\"_parent\"><img src=\"https://colab.research.google.com/assets/colab-badge.svg\" alt=\"Open In Colab\"/></a>"
      ]
    },
    {
      "cell_type": "markdown",
      "metadata": {
        "id": "eZi6pTBrBP-7"
      },
      "source": [
        "# Problem"
      ]
    },
    {
      "cell_type": "markdown",
      "metadata": {
        "id": "_aoCH9yGBVbW"
      },
      "source": [
        "Write a program to compute the interest earned on a Fixed Deposit at maturity .\n",
        "\n",
        "<center>\n",
        "\n",
        "$ A = P * \\left( 1 + \\frac{R}{100} \\right)^T$\n",
        "\n",
        "$ C = A - P $\n",
        "\n",
        "</center>\n",
        "\n",
        "**Sample input 1:**\n",
        "```\n",
        "P: 1000\n",
        "T: 10\n",
        "R: 8\n",
        "```\n",
        "**Output:**\n",
        "\n",
        "Interest Earned: 11589.249972727881\n",
        "\n",
        "**Sample input 1:**\n",
        "```\n",
        "P: 5000\n",
        "T: 5\n",
        "R: 5\n",
        "```\n",
        "**Output:**\n",
        "\n",
        "Interest Earned: 1381.4078125000015\n",
        "\n",
        "\n",
        "**Hint:**\n",
        "- Use `input` function to get inputs from user\n",
        "- Store the inputs as `int` in variables\n",
        "- Use Arithmetic Operators to compute "
      ]
    },
    {
      "cell_type": "markdown",
      "metadata": {
        "id": "0IOkSx3xDTtB"
      },
      "source": [
        "## Solution"
      ]
    },
    {
      "cell_type": "code",
      "metadata": {
        "id": "hIFq6llvvBNl",
        "colab": {
          "base_uri": "https://localhost:8080/"
        },
        "outputId": "fd9bcd6f-eff9-4fc6-9211-4ada62130e12"
      },
      "source": [
        "p = int(input(\"P: \"))\r\n",
        "t = int(input(\"T: \"))\r\n",
        "r = int(input(\"R5: \"))\r\n",
        "a = p*((1+(r/100)))**t\r\n",
        "c = a-p\r\n",
        "print(\"Interest Earned: \",c)"
      ],
      "execution_count": null,
      "outputs": [
        {
          "output_type": "stream",
          "text": [
            "P: 5000\n",
            "T: 5\n",
            "R: 5\n",
            "Interest Earned:  1381.4078125000015\n"
          ],
          "name": "stdout"
        }
      ]
    },
    {
      "cell_type": "markdown",
      "metadata": {
        "id": "e9uWP39-9VJ6"
      },
      "source": [
        "# Problem"
      ]
    },
    {
      "cell_type": "markdown",
      "metadata": {
        "id": "aSXXARe47DQb"
      },
      "source": [
        "Get the length and breadth of rectangle from the user and check whether it is a square or not. The input sizes must be > 0. \n",
        "\n",
        "**Sample input 1:**\n",
        "```\n",
        "Length: 10\n",
        "Breadth: 30\n",
        "```\n",
        "**Output:**\n",
        "This is a rectangle\n",
        "\n",
        "\n",
        "**Sample input 2:**\n",
        "```\n",
        "Length: 10\n",
        "Breadth: 10\n",
        "```\n",
        "**Output:**\n",
        "This is a square\n",
        "\n",
        "**Sample input 3:**\n",
        "```\n",
        "Length: -1\n",
        "Breadth: 10\n",
        "```\n",
        "**Output:**\n",
        "Invalid Inputs. Both inputs must be positive.\n",
        "\n",
        "**HINT**:\n",
        "\n",
        "- Use `if...elif...else` or nested conditionals\n",
        "- Use Comparision and Logical operators"
      ]
    },
    {
      "cell_type": "markdown",
      "metadata": {
        "id": "qwFfl88X8i5q"
      },
      "source": [
        "## Solution"
      ]
    },
    {
      "cell_type": "code",
      "metadata": {
        "id": "Syil-RFUvRKc",
        "colab": {
          "base_uri": "https://localhost:8080/"
        },
        "outputId": "9369145e-38c7-44c4-b6a3-947a102f07b7"
      },
      "source": [
        "l = int(input(\"Length: \"))\r\n",
        "b = int(input(\"Breadth: \"))\r\n",
        "\r\n",
        "if(l>0 and b>0):\r\n",
        "  if(l==b):\r\n",
        "    print(\"This is a square\")\r\n",
        "  else:\r\n",
        "    print(\"This is a rectangle\")\r\n",
        "else:\r\n",
        "  print(\"Invalid Inputs. Both inputs must be positive\")\r\n"
      ],
      "execution_count": null,
      "outputs": [
        {
          "output_type": "stream",
          "text": [
            "Length: 10\n",
            "Breadth: 10\n",
            "This is a square\n"
          ],
          "name": "stdout"
        }
      ]
    },
    {
      "cell_type": "markdown",
      "metadata": {
        "id": "HvJjen1l9CpC"
      },
      "source": [
        "# Problem"
      ]
    },
    {
      "cell_type": "markdown",
      "metadata": {
        "id": "rTwi9m6u9c-s"
      },
      "source": [
        "Ask user to input a number and display the factorial of that number. Assume only valid inputs will be provided\n",
        "\n",
        "<center>\n",
        "$\n",
        " f(n) =\n",
        "\\begin{cases}\n",
        "    n * (n - 1) * ... * 2 * 1,& \\text{if } n\\geq 1\\\\\n",
        "    1,& \\text{if } n= 0\\\\    \n",
        "\\end{cases}\n",
        "$\n",
        "</center>\n",
        "\n",
        "Assume that valid inputs will be provided.\n",
        "\n",
        "**Sample input 1**\n",
        "```\n",
        "Input Number: 5\n",
        "```\n",
        "**Output**\n",
        "\n",
        "Factorial: 120\n",
        "\n",
        "**Sample input 2**\n",
        "```\n",
        "Input Number: 0\n",
        "```\n",
        "**Output**\n",
        "\n",
        "Factorial: 1\n",
        "\n",
        "**Hint:**\n",
        "\n",
        " - Use `for` loop along with `range` function OR\n",
        " - Use `while` loop"
      ]
    },
    {
      "cell_type": "markdown",
      "metadata": {
        "id": "1VGpZOfvA6N6"
      },
      "source": [
        "## Solution"
      ]
    },
    {
      "cell_type": "code",
      "metadata": {
        "id": "9BHm_MuVvQKt",
        "colab": {
          "base_uri": "https://localhost:8080/"
        },
        "outputId": "af8eaf67-6dfb-4460-e326-8d0cf782c966"
      },
      "source": [
        "n = int(input(\"Input Number: \"))\r\n",
        "f = 1\r\n",
        "\r\n",
        "for i in range(1,n+1):\r\n",
        "  f = f*i\r\n",
        "print(\"Factorial: \",f)"
      ],
      "execution_count": null,
      "outputs": [
        {
          "output_type": "stream",
          "text": [
            "Input Number: 5\n",
            "Factorial:  120\n"
          ],
          "name": "stdout"
        }
      ]
    },
    {
      "cell_type": "markdown",
      "metadata": {
        "id": "wqQYkT83MEZi"
      },
      "source": [
        "# Problem"
      ]
    },
    {
      "cell_type": "markdown",
      "metadata": {
        "id": "ybWVANY5MnFg"
      },
      "source": [
        "Write a program to find the n-th Fibonacci Number.\n",
        "\n",
        "<center>\n",
        "\n",
        "$\n",
        " F_n =\n",
        "\\begin{cases}\n",
        "    0 & \\text{if } n = 0\\\\\n",
        "    1 & \\text{if } n = 1\\\\ \n",
        "    F_{n-1} + F_{n-2} & \\text{if } n > 1\n",
        "\\end{cases}\n",
        "$\n",
        "</center>\n",
        "\n",
        "**Sample input 1**\n",
        "```\n",
        "Input Number: 0\n",
        "```\n",
        "**Output**\n",
        "\n",
        "Fibonacci(0): 0\n",
        "\n",
        "**Sample input 2**\n",
        "```\n",
        "Input Number: 1\n",
        "```\n",
        "**Output**\n",
        "\n",
        "Fibonacci(1): 1\n",
        "\n",
        "**Sample input 3**\n",
        "```\n",
        "Input Number: 8\n",
        "```\n",
        "**Output**\n",
        "\n",
        "Fibonacci(8): 21\n",
        "\n",
        "**Hint:**\n",
        "\n",
        "- Use `if...elif...else` conditionals\n",
        "- Use `for` or `while` loop\n",
        "- Use variables to store previous 2 fibonacci numbers"
      ]
    },
    {
      "cell_type": "markdown",
      "metadata": {
        "id": "1K5shxHFOJX5"
      },
      "source": [
        "##Solution"
      ]
    },
    {
      "cell_type": "code",
      "metadata": {
        "id": "0fttyImPvPA0",
        "colab": {
          "base_uri": "https://localhost:8080/"
        },
        "outputId": "6466cd81-bc46-4f57-ecec-62108e31ad43"
      },
      "source": [
        "a = 0\r\n",
        "b = 1\r\n",
        "n=int(input(\"Input Number: \"))\r\n",
        "k=n\r\n",
        "while(n-1>0):\r\n",
        "    c=a+b\r\n",
        "    a,b = b,c\r\n",
        "    n=n-1\r\n",
        "print('Fibonacci({0}): {1}'.format(k,b))"
      ],
      "execution_count": null,
      "outputs": [
        {
          "output_type": "stream",
          "text": [
            "Input Number: 8\n",
            "Fibonacci(8): 21\n"
          ],
          "name": "stdout"
        }
      ]
    },
    {
      "cell_type": "markdown",
      "metadata": {
        "id": "rqcb_G0VTCID"
      },
      "source": [
        "# Problem"
      ]
    },
    {
      "cell_type": "markdown",
      "metadata": {
        "id": "oPP3jo4QTDc6"
      },
      "source": [
        "Write a program which infinitely asks the user for a choice. Depending on the selected choice it performs calculations or terminates.\n",
        "\n",
        "**Sample input 1**\n",
        "```\n",
        "What would you like to do?\n",
        "1. Add\n",
        "2. Subtract\n",
        "3. Exit\n",
        "Enter your choice: 7\n",
        "```\n",
        "**Output**\n",
        "```\n",
        "Invalid Choice. Please choose again.\n",
        "What would you like to do?\n",
        "1. Add\n",
        "2. Subtract\n",
        "3. Exit\n",
        "Enter your choice: \n",
        "```\n",
        "**Sample input 2**\n",
        "```\n",
        "What would you like to do?\n",
        "1. Add\n",
        "2. Subtract\n",
        "3. Exit\n",
        "Enter your choice: 3\n",
        "```\n",
        "**Output**\n",
        "```\n",
        "Thanks for using this calculator\n",
        "```\n",
        "**Sample input 3**\n",
        "```\n",
        "What would you like to do?\n",
        "1. Add\n",
        "2. Subtract\n",
        "3. Exit\n",
        "Enter your choice: 1\n",
        "Enter x: 5\n",
        "Enter y: 10\n",
        "```\n",
        "**Output**\n",
        "```\n",
        "5 + 10 = 15\n",
        "\n",
        "What would you like to do?\n",
        "1. Add\n",
        "2. Subtract\n",
        "3. Exit\n",
        "Enter your choice: 3\n",
        "Thanks for using this calculator\n",
        "```\n",
        "\n",
        "Hint:\n",
        "- Use `while` loop\n",
        "- Ensure that the condition of the loop is always valid\n",
        "- Get user choice and use conditionals, nested conditionals or combination\n",
        "- Terminate the `while` loop using a special keyword discussed in the last session\n"
      ]
    },
    {
      "cell_type": "markdown",
      "metadata": {
        "id": "e5YqdXwPUezX"
      },
      "source": [
        "## Solution"
      ]
    },
    {
      "cell_type": "code",
      "metadata": {
        "id": "Qf1gxjUsvNTD",
        "colab": {
          "base_uri": "https://localhost:8080/"
        },
        "outputId": "2b1215e2-c206-4c6f-fa61-fdea77e1d64f"
      },
      "source": [
        "while(1):\r\n",
        "  print(\"What would you like to do ?\\n1. Add\\n2. Subtract\\n3. Exit\")\r\n",
        "  n = int(input(\"Enter your choice: \"))\r\n",
        "  if(n==1):\r\n",
        "    x = int(input(\"Enter x: \"))\r\n",
        "    y = int(input(\"Enter y: \"))\r\n",
        "    print(\"{0} + {1} = {2}\".format(x,y,x+y))\r\n",
        "  elif(n==2):\r\n",
        "    x = int(input(\"Enter x: \"))\r\n",
        "    y = int(input(\"Enter y: \"))\r\n",
        "    print(\"{0} - {1} = {2}\\n\".format(x,y,x-y))\r\n",
        "  elif(n==3):\r\n",
        "    print(\"Thanks for using this calculator\")\r\n",
        "    break\r\n",
        "  else:\r\n",
        "    print(\"Invalid Choice. Please choose again.\\n\")\r\n",
        "\r\n"
      ],
      "execution_count": null,
      "outputs": [
        {
          "output_type": "stream",
          "text": [
            "What would you like to do ?\n",
            "1. Add\n",
            "2. Subtract\n",
            "3. Exit\n",
            "Enter your choice: 1\n",
            "Enter x: 13\n",
            "Enter y: 24\n",
            "13 + 24 = 37\n",
            "What would you like to do ?\n",
            "1. Add\n",
            "2. Subtract\n",
            "3. Exit\n"
          ],
          "name": "stdout"
        }
      ]
    },
    {
      "cell_type": "markdown",
      "metadata": {
        "id": "nf0kkpHyY8eG"
      },
      "source": [
        "# Problem"
      ]
    },
    {
      "cell_type": "markdown",
      "metadata": {
        "id": "9ha52AsnYhtu"
      },
      "source": [
        "\n",
        "\n",
        "Find the n-th prime number\n",
        "\n",
        "**Hint**\n",
        "- Use nested loops\n",
        "- Update the loop variable when you encounter a prime number"
      ]
    },
    {
      "cell_type": "markdown",
      "metadata": {
        "id": "3gF5dWP8Y9MS"
      },
      "source": [
        "## Solution"
      ]
    },
    {
      "cell_type": "code",
      "metadata": {
        "id": "tMnMhmvOvN0A",
        "colab": {
          "base_uri": "https://localhost:8080/"
        },
        "outputId": "a202a4e5-7911-4c5b-f4d7-656834116660"
      },
      "source": [
        "n = int(input(\"n: \"))\r\n",
        "count=1\r\n",
        "u=2\r\n",
        "prime=[]\r\n",
        "\r\n",
        "while(count<=n):\r\n",
        "    temp=0\r\n",
        "    for i in range(2,u):\r\n",
        "        if(u%i==0):\r\n",
        "            temp=1\r\n",
        "    if(temp==0):\r\n",
        "        count+=1\r\n",
        "        prime.append(u)\r\n",
        "    u+=1\r\n",
        "\r\n",
        "print(prime[-1])"
      ],
      "execution_count": null,
      "outputs": [
        {
          "output_type": "stream",
          "text": [
            "n: 5\n",
            "11\n"
          ],
          "name": "stdout"
        }
      ]
    }
  ]
}